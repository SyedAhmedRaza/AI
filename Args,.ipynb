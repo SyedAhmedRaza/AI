{
 "cells": [
  {
   "cell_type": "markdown",
   "metadata": {},
   "source": [
    "# Args,*kargs"
   ]
  },
  {
   "cell_type": "code",
   "execution_count": 9,
   "metadata": {},
   "outputs": [],
   "source": [
    "def car(model ,make , *specs):\n",
    "    print(model, make)\n",
    "    print(*specs)"
   ]
  },
  {
   "cell_type": "code",
   "execution_count": 10,
   "metadata": {},
   "outputs": [
    {
     "name": "stdout",
     "output_type": "stream",
     "text": [
      "2010 toyota corolla\n",
      "alloyrim tape Power window power staring\n"
     ]
    }
   ],
   "source": [
    "car(2010 ,\"toyota corolla\" , \"alloyrim\" ,\"tape\" , \"Power window\" ,\"power staring\")"
   ]
  },
  {
   "cell_type": "code",
   "execution_count": 11,
   "metadata": {},
   "outputs": [
    {
     "name": "stdout",
     "output_type": "stream",
     "text": [
      "2010 toyota corolla\n",
      "alloyrim tape power windows\n"
     ]
    }
   ],
   "source": [
    "car(2010, 'toyota corolla', 'alloyrim', 'tape', 'power windows')"
   ]
  },
  {
   "cell_type": "code",
   "execution_count": 12,
   "metadata": {},
   "outputs": [
    {
     "name": "stdout",
     "output_type": "stream",
     "text": [
      "2016 honda civic\n",
      "alloyrim atomatic power staring \n"
     ]
    }
   ],
   "source": [
    "car(2016, \"honda civic\" ,\"alloyrim\" , \"atomatic\" , \"power staring \")"
   ]
  },
  {
   "cell_type": "code",
   "execution_count": 13,
   "metadata": {},
   "outputs": [],
   "source": [
    "def piza_order(name, size_of_piza ,Flavour ,*toppings):\n",
    "    print(\"Order is given by : \"+name)\n",
    "    print(\"Size of piza is : \"+size_of_piza)\n",
    "    print(\"Flavour of piza is : \"+Flavour)\n",
    "    print(\"Toppings are : \")\n",
    "    for topping in toppings :\n",
    "        print(topping)"
   ]
  },
  {
   "cell_type": "code",
   "execution_count": 14,
   "metadata": {},
   "outputs": [
    {
     "name": "stdout",
     "output_type": "stream",
     "text": [
      "Order is given by : Syed Ahmed Raza\n",
      "Size of piza is : Extra Large\n",
      "Flavour of piza is : Extra Cheez\n",
      "Toppings are : \n",
      "spicy\n",
      "Olives\n"
     ]
    }
   ],
   "source": [
    "piza_order(\"Syed Ahmed Raza\" , \"Extra Large\" , \"Extra Cheez\" , \"spicy\" ,\"Olives\")"
   ]
  },
  {
   "cell_type": "code",
   "execution_count": 15,
   "metadata": {},
   "outputs": [
    {
     "name": "stdout",
     "output_type": "stream",
     "text": [
      "Order is given by : Syed Sadiq Hussain\n",
      "Size of piza is : Large\n",
      "Flavour of piza is : simple\n",
      "Toppings are : \n",
      "chilli\n",
      "Hot\n"
     ]
    }
   ],
   "source": [
    "piza_order(\"Syed Sadiq Hussain\" , \"Large\" , \"simple\" , \"chilli\" , \"Hot\")"
   ]
  },
  {
   "cell_type": "code",
   "execution_count": 17,
   "metadata": {},
   "outputs": [],
   "source": [
    "def person(fname, lname ,**about) :\n",
    "    print(fname ,lname)\n",
    "    print(about)"
   ]
  },
  {
   "cell_type": "code",
   "execution_count": 19,
   "metadata": {},
   "outputs": [
    {
     "name": "stdout",
     "output_type": "stream",
     "text": [
      "Syed Ahmed Raza\n",
      "{'age': 24, 'address': 'korangi # 3 karachi'}\n"
     ]
    }
   ],
   "source": [
    "person(\"Syed Ahmed\" , \"Raza\" , age =24 , address = \"korangi # 3 karachi\")"
   ]
  },
  {
   "cell_type": "code",
   "execution_count": 21,
   "metadata": {},
   "outputs": [
    {
     "name": "stdout",
     "output_type": "stream",
     "text": [
      "Syed Asad Ali\n",
      "{'age': 21, 'address': 'kala pull , railway colony '}\n"
     ]
    }
   ],
   "source": [
    "person(\"Syed Asad\", \"Ali\" ,age = 21 , address = \"kala pull , railway colony \") "
   ]
  },
  {
   "cell_type": "markdown",
   "metadata": {},
   "source": [
    "# Using Function As a Variable"
   ]
  },
  {
   "cell_type": "code",
   "execution_count": 22,
   "metadata": {},
   "outputs": [],
   "source": [
    "def add():\n",
    "    x = 3 + 5\n",
    "    return x "
   ]
  },
  {
   "cell_type": "code",
   "execution_count": 23,
   "metadata": {},
   "outputs": [],
   "source": [
    "def sub():\n",
    "    y = 23 - 9\n",
    "    return y"
   ]
  },
  {
   "cell_type": "code",
   "execution_count": 24,
   "metadata": {},
   "outputs": [],
   "source": [
    "answer = add() + sub()"
   ]
  },
  {
   "cell_type": "code",
   "execution_count": 25,
   "metadata": {},
   "outputs": [
    {
     "data": {
      "text/plain": [
       "22"
      ]
     },
     "execution_count": 25,
     "metadata": {},
     "output_type": "execute_result"
    }
   ],
   "source": [
    "answer"
   ]
  },
  {
   "cell_type": "code",
   "execution_count": 27,
   "metadata": {},
   "outputs": [],
   "source": [
    "def add ():\n",
    "    x = 4 + 6\n",
    "    return x"
   ]
  },
  {
   "cell_type": "code",
   "execution_count": 29,
   "metadata": {},
   "outputs": [],
   "source": [
    "def sub():\n",
    "    y = 6 - 4\n",
    "    return y"
   ]
  },
  {
   "cell_type": "code",
   "execution_count": 30,
   "metadata": {},
   "outputs": [],
   "source": [
    "ans = add() + sub()"
   ]
  },
  {
   "cell_type": "code",
   "execution_count": 31,
   "metadata": {},
   "outputs": [
    {
     "data": {
      "text/plain": [
       "12"
      ]
     },
     "execution_count": 31,
     "metadata": {},
     "output_type": "execute_result"
    }
   ],
   "source": [
    "ans"
   ]
  },
  {
   "cell_type": "code",
   "execution_count": 32,
   "metadata": {},
   "outputs": [
    {
     "data": {
      "text/plain": [
       "22"
      ]
     },
     "execution_count": 32,
     "metadata": {},
     "output_type": "execute_result"
    }
   ],
   "source": [
    "answer"
   ]
  },
  {
   "cell_type": "code",
   "execution_count": 34,
   "metadata": {},
   "outputs": [],
   "source": [
    "def salary(basic,commision) :\n",
    "    total = basic + commision\n",
    "    print(f\"your salary is :{total} \")"
   ]
  },
  {
   "cell_type": "code",
   "execution_count": 44,
   "metadata": {},
   "outputs": [],
   "source": [
    "def commision_calculator(sales):\n",
    "    if sales>= 100000:\n",
    "        percentage = 30\n",
    "    elif sales >= 50000:\n",
    "        percentage = 20\n",
    "    elif sales >= 30000:\n",
    "        percentage = 10\n",
    "    elif sales >= 10000:\n",
    "        percentage = 5\n",
    "    else:\n",
    "        percentage = 0\n",
    "    commision = sales/100*percentage\n",
    "    return commision"
   ]
  },
  {
   "cell_type": "code",
   "execution_count": 50,
   "metadata": {},
   "outputs": [
    {
     "name": "stdout",
     "output_type": "stream",
     "text": [
      "Enter basic salary: 3000\n",
      "Enter sales: 20000\n",
      "your salary is :4000.0 \n"
     ]
    }
   ],
   "source": [
    "basic = int(input(\"Enter basic salary: \"))\n",
    "sales = int(input(\"Enter sales: \"))\n",
    "\n",
    "salary(basic,commision_calculator(sales))"
   ]
  },
  {
   "cell_type": "markdown",
   "metadata": {},
   "source": [
    "# Local and Global Variables"
   ]
  },
  {
   "cell_type": "code",
   "execution_count": 51,
   "metadata": {},
   "outputs": [],
   "source": [
    "# Variables created inside the function body are local variables\n",
    "# Local means they can not be accessed outside the function"
   ]
  },
  {
   "cell_type": "code",
   "execution_count": 52,
   "metadata": {},
   "outputs": [],
   "source": [
    "fruit = \"apple\" # global\n",
    "\n",
    "def  alocal():\n",
    "    a = 100  #local\n",
    "    \n",
    "    global fruit \n",
    "    fruit = \"orange\"  # global\n",
    "    print(fruit)\n",
    "    print(a)\n",
    "    "
   ]
  },
  {
   "cell_type": "code",
   "execution_count": 53,
   "metadata": {},
   "outputs": [
    {
     "name": "stdout",
     "output_type": "stream",
     "text": [
      "orange\n",
      "100\n",
      "orange\n"
     ]
    }
   ],
   "source": [
    "alocal()\n",
    "print(fruit)"
   ]
  },
  {
   "cell_type": "code",
   "execution_count": 55,
   "metadata": {},
   "outputs": [
    {
     "name": "stdout",
     "output_type": "stream",
     "text": [
      "orange\n"
     ]
    }
   ],
   "source": [
    "print(fruit)"
   ]
  },
  {
   "cell_type": "code",
   "execution_count": null,
   "metadata": {},
   "outputs": [],
   "source": []
  }
 ],
 "metadata": {
  "kernelspec": {
   "display_name": "Python 3",
   "language": "python",
   "name": "python3"
  },
  "language_info": {
   "codemirror_mode": {
    "name": "ipython",
    "version": 3
   },
   "file_extension": ".py",
   "mimetype": "text/x-python",
   "name": "python",
   "nbconvert_exporter": "python",
   "pygments_lexer": "ipython3",
   "version": "3.7.3"
  }
 },
 "nbformat": 4,
 "nbformat_minor": 2
}
